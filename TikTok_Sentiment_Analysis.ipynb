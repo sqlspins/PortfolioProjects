{
  "nbformat": 4,
  "nbformat_minor": 0,
  "metadata": {
    "colab": {
      "provenance": []
    },
    "kernelspec": {
      "name": "python3",
      "display_name": "Python 3"
    },
    "language_info": {
      "name": "python"
    }
  },
  "cells": [
    {
      "cell_type": "code",
      "execution_count": 10,
      "metadata": {
        "colab": {
          "base_uri": "https://localhost:8080/"
        },
        "id": "Gy_0_VvXDPq8",
        "outputId": "0627e16d-f205-4a3e-aa19-a143e24da7a5"
      },
      "outputs": [
        {
          "output_type": "stream",
          "name": "stdout",
          "text": [
            "Requirement already satisfied: vaderSentiment in /usr/local/lib/python3.10/dist-packages (3.3.2)\n",
            "Requirement already satisfied: requests in /usr/local/lib/python3.10/dist-packages (from vaderSentiment) (2.32.3)\n",
            "Requirement already satisfied: charset-normalizer<4,>=2 in /usr/local/lib/python3.10/dist-packages (from requests->vaderSentiment) (3.4.0)\n",
            "Requirement already satisfied: idna<4,>=2.5 in /usr/local/lib/python3.10/dist-packages (from requests->vaderSentiment) (3.10)\n",
            "Requirement already satisfied: urllib3<3,>=1.21.1 in /usr/local/lib/python3.10/dist-packages (from requests->vaderSentiment) (2.2.3)\n",
            "Requirement already satisfied: certifi>=2017.4.17 in /usr/local/lib/python3.10/dist-packages (from requests->vaderSentiment) (2024.8.30)\n"
          ]
        }
      ],
      "source": [
        "!pip install vaderSentiment\n"
      ]
    },
    {
      "cell_type": "code",
      "source": [
        "import pandas as pd\n",
        "from vaderSentiment.vaderSentiment import SentimentIntensityAnalyzer\n"
      ],
      "metadata": {
        "id": "FvoKzWewDX2b"
      },
      "execution_count": 11,
      "outputs": []
    },
    {
      "cell_type": "code",
      "source": [
        "import pandas as pd\n",
        "df = pd.read_csv('/tiktok_transcriptions_with_sentiment - tiktok_transcriptions_with_sentiment.csv')\n"
      ],
      "metadata": {
        "id": "G_d6vgnScSEw"
      },
      "execution_count": 14,
      "outputs": []
    },
    {
      "cell_type": "code",
      "source": [
        "from sklearn.preprocessing import StandardScaler\n",
        "scaler = StandardScaler()\n",
        "\n",
        "# metric columns\n",
        "metrics = ['video_view_count', 'video_like_count', 'video_share_count', 'video_comment_count']\n",
        "df[metrics] = scaler.fit_transform(df[metrics])\n",
        "df['composite_score'] = df[metrics].sum(axis=1)\n"
      ],
      "metadata": {
        "id": "S3Nhvnu8caGN"
      },
      "execution_count": 15,
      "outputs": []
    },
    {
      "cell_type": "code",
      "source": [
        "df['high_performing'] = (df['composite_score'] >= df['composite_score'].quantile(0.75)).astype(int)\n"
      ],
      "metadata": {
        "id": "tSVSMggzcf76"
      },
      "execution_count": 16,
      "outputs": []
    },
    {
      "cell_type": "code",
      "source": [
        "high_perf = df[df['high_performing'] == 1]\n",
        "low_perf = df[df['high_performing'] == 0]\n"
      ],
      "metadata": {
        "id": "lOhRRj6Fckid"
      },
      "execution_count": 17,
      "outputs": []
    },
    {
      "cell_type": "code",
      "source": [
        "from scipy.stats import chi2_contingency, mannwhitneyu\n",
        "\n",
        "# Chi-square test for categorical sentiment data\n",
        "contingency_table = pd.crosstab(df['Sentiment'], df['high_performing'])\n",
        "chi2, p_value, _, _ = chi2_contingency(contingency_table)\n",
        "print(f'Chi-square test p-value: {p_value}')\n"
      ],
      "metadata": {
        "colab": {
          "base_uri": "https://localhost:8080/"
        },
        "id": "sy9SGHdhclQG",
        "outputId": "25125028-011e-449b-f57e-c7c11dca8bd8"
      },
      "execution_count": 18,
      "outputs": [
        {
          "output_type": "stream",
          "name": "stdout",
          "text": [
            "Chi-square test p-value: 2.9342550625388696e-07\n"
          ]
        }
      ]
    },
    {
      "cell_type": "code",
      "source": [],
      "metadata": {
        "id": "CDv-8JlsOy8c"
      },
      "execution_count": 18,
      "outputs": []
    },
    {
      "cell_type": "code",
      "source": [
        "from google.colab import files\n",
        "df.to_csv('filename.csv')\n",
        "files.download('filename.csv')"
      ],
      "metadata": {
        "colab": {
          "base_uri": "https://localhost:8080/",
          "height": 17
        },
        "id": "Awrr8iFcd-VP",
        "outputId": "8ec87bb7-ed03-40f6-dafd-c77727e6ab9c"
      },
      "execution_count": 19,
      "outputs": [
        {
          "output_type": "display_data",
          "data": {
            "text/plain": [
              "<IPython.core.display.Javascript object>"
            ],
            "application/javascript": [
              "\n",
              "    async function download(id, filename, size) {\n",
              "      if (!google.colab.kernel.accessAllowed) {\n",
              "        return;\n",
              "      }\n",
              "      const div = document.createElement('div');\n",
              "      const label = document.createElement('label');\n",
              "      label.textContent = `Downloading \"${filename}\": `;\n",
              "      div.appendChild(label);\n",
              "      const progress = document.createElement('progress');\n",
              "      progress.max = size;\n",
              "      div.appendChild(progress);\n",
              "      document.body.appendChild(div);\n",
              "\n",
              "      const buffers = [];\n",
              "      let downloaded = 0;\n",
              "\n",
              "      const channel = await google.colab.kernel.comms.open(id);\n",
              "      // Send a message to notify the kernel that we're ready.\n",
              "      channel.send({})\n",
              "\n",
              "      for await (const message of channel.messages) {\n",
              "        // Send a message to notify the kernel that we're ready.\n",
              "        channel.send({})\n",
              "        if (message.buffers) {\n",
              "          for (const buffer of message.buffers) {\n",
              "            buffers.push(buffer);\n",
              "            downloaded += buffer.byteLength;\n",
              "            progress.value = downloaded;\n",
              "          }\n",
              "        }\n",
              "      }\n",
              "      const blob = new Blob(buffers, {type: 'application/binary'});\n",
              "      const a = document.createElement('a');\n",
              "      a.href = window.URL.createObjectURL(blob);\n",
              "      a.download = filename;\n",
              "      div.appendChild(a);\n",
              "      a.click();\n",
              "      div.remove();\n",
              "    }\n",
              "  "
            ]
          },
          "metadata": {}
        },
        {
          "output_type": "display_data",
          "data": {
            "text/plain": [
              "<IPython.core.display.Javascript object>"
            ],
            "application/javascript": [
              "download(\"download_ede82524-cee1-4712-98f9-3a22fa393b9c\", \"filename.csv\", 4765070)"
            ]
          },
          "metadata": {}
        }
      ]
    },
    {
      "cell_type": "code",
      "source": [
        "import pandas as pd\n",
        "from sklearn.preprocessing import StandardScaler\n",
        "from scipy.stats import chi2_contingency\n",
        "\n",
        "# Loading the data\n",
        "df = pd.read_csv('/tiktok_transcriptions_with_sentiment - tiktok_transcriptions_with_sentiment.csv')\n",
        "\n",
        "# Standardizing the metric columns\n",
        "scaler = StandardScaler()\n",
        "metrics = ['video_view_count', 'video_like_count', 'video_share_count', 'video_comment_count']\n",
        "df[metrics] = scaler.fit_transform(df[metrics])\n",
        "\n",
        "# Computing a composite score and categorizing high performing videos\n",
        "df['composite_score'] = df[metrics].sum(axis=1)\n",
        "df['high_performing'] = (df['composite_score'] >= df['composite_score'].quantile(0.75)).astype(int)\n",
        "\n",
        "# Creating a contingency table for sentiment and high performing status\n",
        "contingency_table = pd.crosstab(df['Sentiment'], df['high_performing'])\n",
        "\n",
        "# Performing the Chi-square test\n",
        "chi2, p_value, dof, expected = chi2_contingency(contingency_table)\n",
        "\n",
        "# Results\n",
        "print(f'Chi-square test p-value: {p_value}')\n",
        "print(f'Chi-square statistic: {chi2}')\n",
        "print(f'Degrees of freedom: {dof}')\n",
        "print(\"Expected counts:\")\n",
        "print(expected)\n",
        "\n",
        "# Check\n",
        "if (expected < 5).any():\n",
        "    print(\"Warning: Some expected counts are less than 5, which could affect the validity of the Chi-square test.\")\n"
      ],
      "metadata": {
        "colab": {
          "base_uri": "https://localhost:8080/"
        },
        "id": "JsCKehz1O04V",
        "outputId": "a0d6defb-5a75-48f7-fc53-fafee418b5db"
      },
      "execution_count": 21,
      "outputs": [
        {
          "output_type": "stream",
          "name": "stdout",
          "text": [
            "Chi-square test p-value: 2.9342550625388696e-07\n",
            "Chi-square statistic: 30.083284083270705\n",
            "Degrees of freedom: 2\n",
            "Expected counts:\n",
            "[[ 826.47112462  275.52887538]\n",
            " [7453.98957132 2485.01042868]\n",
            " [6030.53930406 2010.46069594]]\n"
          ]
        }
      ]
    }
  ]
}